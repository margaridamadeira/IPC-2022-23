{
 "cells": [
  {
   "cell_type": "markdown",
   "metadata": {
    "collapsed": true,
    "slideshow": {
     "slide_type": "fragment"
    }
   },
   "source": [
    "# Criação de soluções\n",
    "\n",
    "Hoje vamos ver algumas técnicas para criar soluções mais robustas, aproveitando para consolidar o que já vimos de programação, nomeadamente:\n",
    "\n",
    "+ as etapas para a criação de uma solução\n",
    "+ os algoritmos e a sua representação através de pseudo-código e fluxogramas\n",
    "+ as várias vertentes da resolução de problemas computacionais\n",
    "+ a documentação e testes\n",
    "+ uso de asserções\n",
    "+ os módulos e as soluções modulares\n",
    "+ instruções para considerar casos excecionais\n",
    "\n",
    "\n"
   ]
  },
  {
   "cell_type": "markdown",
   "metadata": {},
   "source": [
    "## Objetivos de aprendizagem\n",
    "\n",
    "No final deste capítulo devemos ser capazes de:\n",
    "\n",
    "+ identificar e definir as etapas necessárias para a criação de uma solução computacional\n",
    "+ desenvolver algoritmos usando pseudo-código e fluxogramas\n",
    "+ gerir as várias vertentes da resolução de problemas no desenvolvimento de uma solução computacional\n",
    "+ gerar a documentação necessária no desenvolvimento de uma solução computacional\n",
    "+ usar asserções para garantir condições durante a execução\n",
    "+ criar e usar módulos no desenvolvimento de uma solução computacional\n",
    "+ usar as instruções try e except\n",
    "\n"
   ]
  },
  {
   "cell_type": "markdown",
   "metadata": {
    "collapsed": true,
    "slideshow": {
     "slide_type": "slide"
    }
   },
   "source": [
    "## Criação de uma solução computacional\n",
    "\n",
    "\n",
    "```{figure} ./figures/passos.png\n",
    "---\n",
    "width: 400px\n",
    "name: Passos\n",
    "---\n",
    "Passos para uma solução computacional\n",
    "```\n",
    "\n",
    "1. Identificar o problema\n",
    "2. Análise do problema\n",
    "3. Formulação de um *algoritmo* para resolver o problema\n",
    "4. Descrição do *algoritmo* de forma simples, eventualmente escrevendo o programa\n",
    "5. Execução ou validação\n",
    "6. Solução\n",
    "\n",
    "\n",
    "A qualidade de uma solução computacional (6) está pois associada à escolha do algoritmo (3). \n"
   ]
  },
  {
   "cell_type": "markdown",
   "metadata": {},
   "source": [
    "### Algoritmo\n",
    "\n",
    "\n",
    "$$ Algoritmo + Linguagem\\ Programação = Programa $$\n",
    "\n",
    "\n",
    "Um algoritmo é uma sequência precisa de operações ou atividades que resolvem um problema num tempo finito.\n",
    "\n",
    "Um programa (ou *script*) é a expressão de um algoritmo usando uma linguagem de programação."
   ]
  },
  {
   "cell_type": "markdown",
   "metadata": {
    "slideshow": {
     "slide_type": "slide"
    }
   },
   "source": [
    "\n",
    "Juntando tudo isto, na resolução de problemas, tradicionalmente identificavam-se as fases:\n",
    "\n",
    "```{figure} ./figures/etapas_1.jpg\n",
    "---\n",
    "width: 400px\n",
    "name: Etapas1\n",
    "---\n",
    "Análise e desenho\n",
    "```\n",
    "\n",
    "* Fase de **Análise**: decidir o que temos que fazer.\n",
    "* Fase de **Desenho** (conceção de uma solução): decidir como se fará, é o desenvolvimento do *algoritmo*. \n",
    "    * Uma abordagem popular é *TOP-DOWN*, onde um problema complexo se resolve dividindo o problema em subproblemas, e assim sucesivamente até que a resolução de um problema seja de fácil solução.\n"
   ]
  },
  {
   "cell_type": "markdown",
   "metadata": {
    "slideshow": {
     "slide_type": "slide"
    }
   },
   "source": [
    "#### Caraterísticas desejáveis de um algoritmo\n",
    "\n",
    "+ Terminar _sempre_ \n",
    "+ Concreto e sem ambiguidade\n",
    "+ Simples e, se tiver várias etapas, com ordem de aplicação definida\n",
    "+ Funcionar _sempre_, independentemente dos dados de entrada (eficaz)\n",
    "+ Factível\n",
    "+ Independente da linguagem de programação e plataforma de implementação"
   ]
  },
  {
   "cell_type": "markdown",
   "metadata": {
    "slideshow": {
     "slide_type": "slide"
    }
   },
   "source": [
    "\n",
    "```{figure} ./figures/etapas_2.jpg\n",
    "---\n",
    "width: 400px\n",
    "name: Etapas2\n",
    "---\n",
    "Codificação, testes e documentação\n",
    "```\n",
    "\n",
    "* Fase de **Codificação**: a implementação do algoritmo numa linguagem de programação adequada.\n",
    "* Fase de **Testes**: não basta terminar o programa; há que garantir que o programa não falha e funciona para todos os casos possíveis.\n",
    "* Fase de **Documentação**: produzir a documentação do programa, facilitando a reutilização futura bem como eventuais alterações."
   ]
  },
  {
   "cell_type": "markdown",
   "metadata": {
    "slideshow": {
     "slide_type": "slide"
    }
   },
   "source": [
    "A abordagem que **nós** usamos na fase de análise é decompor o nosso problema:\n",
    "+ em pequenas unidades, que identificamos com uma função, com nome mas vazia\n",
    "+ descrevemos sucintamente o objetivo na documentação\n",
    "+ esboçamos os testes para definir o que cada função deve fazer.\n",
    "\n"
   ]
  },
  {
   "cell_type": "markdown",
   "metadata": {
    "slideshow": {
     "slide_type": "slide"
    }
   },
   "source": [
    "## Como descrever soluções\n",
    "\n",
    "Numa abordagem inicial, é frequente sugerir-se o uso de:\n",
    "* pseudocódigo para enunciar o algoritmo\n",
    "* diagramas de fluxo para visualização do algoritmo\n"
   ]
  },
  {
   "cell_type": "markdown",
   "metadata": {
    "slideshow": {
     "slide_type": "subslide"
    }
   },
   "source": [
    "### Exemplo de pseudo-código\n",
    "\n",
    "    Paridade (número n)\n",
    "\n",
    "    Início:\n",
    "\n",
    "    Avaliar:\n",
    "        se n = 2\n",
    "            escreve \"Par\"\n",
    "            Vai para Fim\n",
    "        senão\n",
    "            se n = 1\n",
    "                escreve \"Ímpar\"\n",
    "                Vai para Fim\n",
    "            senão\n",
    "                n = n - 2\n",
    "                Vai para Avaliar\n",
    "            fim se\n",
    "        fim se\n",
    "    \n",
    "    Fim: Termina\n",
    "\n"
   ]
  },
  {
   "cell_type": "markdown",
   "metadata": {},
   "source": [
    "### Símbolos mais comuns num fluxograma\n",
    "\n",
    "\n",
    "```{figure} ./figures/SimbFluxogr.jpg\n",
    "---\n",
    "width: 400px\n",
    "name: Símbolos\n",
    "---\n",
    "Símbolos\n",
    "```"
   ]
  },
  {
   "cell_type": "markdown",
   "metadata": {
    "slideshow": {
     "slide_type": "subslide"
    }
   },
   "source": [
    "### Exemplo de fluxograma\n",
    "\n",
    "\n",
    "```{figure} ./figures/AlgParidade.jpg\n",
    "---\n",
    "width: 400px\n",
    "name: Paridade\n",
    "---\n",
    "Paridade\n",
    "```"
   ]
  },
  {
   "cell_type": "markdown",
   "metadata": {
    "slideshow": {
     "slide_type": "slide"
    }
   },
   "source": [
    "### Exercícios propostos\n",
    "\n",
    "Como faria (pseudo-código ou fluxograma) para:\n",
    "\n",
    "+ Troca\n",
    "    * Em $a$ e $b$ tenho duas quantidades em que $a > b$. Pretendo garantir que $a < b$.\n",
    "+ Enumeração\n",
    "    * Tenho uma coleção de elementos. Pretendo saber quantos elementos contém.\n",
    "    * Tenho uma coleção de elementos. Pretendo examiná-los todos.\n",
    "+ Acumulação\n",
    "    * Tenho uma coleção de elementos. Pretendo o valor do somatório.\n",
    "+ Ordenação\n",
    "    * Tenho uma coleção de elementos. Pretendo que o conjunto fique ordenado crescentemente.\n",
    "+ Procura\n",
    "    * Tenho uma coleção de elementos. Pretendo saber se determinado elemento existe.\n"
   ]
  },
  {
   "cell_type": "markdown",
   "metadata": {
    "slideshow": {
     "slide_type": "slide"
    }
   },
   "source": [
    "## Codificação, testes e documentação\n",
    "\n",
    "O conceito de programação imperativa (ou declarativa) é um estilo de programação em que a atividade de um computador é orientada por instruções.\n",
    "\n",
    "Essas instruções traduzirão então as ordens a cumprir, seja *ler*, *escrever*, *somar*, *repetir até* entre outras.\n",
    "\n",
    "Normalmente a programação imperativa deseja-se *estruturada* em atividades bem delimitadas, que se pretendem simples e pequenas (*Keep it simple, keep it small*). \n",
    "\n",
    "Na programação estruturada tipicamente ocorre a leitura de dados, o processamento e a escrita de resultados. O processamento é organizado numa sequência de atividades, cada uma delas concretizada por pequenos conjuntos de instruções (*procedimentos* ou *funções*)."
   ]
  },
  {
   "cell_type": "markdown",
   "metadata": {
    "slideshow": {
     "slide_type": "slide"
    }
   },
   "source": [
    "### Exemplo: paridade\n",
    "\n",
    "Como exemplo de um algoritmo, foi referido o teste de paridade de um número. No caso geral teríamos:\n",
    "\n",
    "#### Exemplo de pseudo-código\n",
    "    Início:\n",
    "        Ler dados\n",
    "        Avaliar se é par\n",
    "        Escrever resultado\n",
    "        \n",
    "    Fim: Termina\n",
    "        "
   ]
  },
  {
   "cell_type": "markdown",
   "metadata": {
    "slideshow": {
     "slide_type": "slide"
    }
   },
   "source": [
    "Ler os dados e escrever os resultados é normalmente o mais simples.\n",
    "\n",
    "    Ler dados:\n",
    "        pedir entrada\n",
    "        enquanto entrada inválida\n",
    "            pedir entrada\n",
    "        fim enquanto\n",
    "            \n",
    "    Escrever resultado:\n",
    "        mostrar resultado"
   ]
  },
  {
   "cell_type": "markdown",
   "metadata": {
    "slideshow": {
     "slide_type": "slide"
    }
   },
   "source": [
    "Avaliar a paridade pode ser feito de várias maneiras. Como tínhamos à pouco:\n",
    "\n",
    "    Avaliar:\n",
    "        se n = 2\n",
    "            resultado é \"Par\"            \n",
    "        senão\n",
    "            se n = 1\n",
    "                resultado é \"Ímpar\"                \n",
    "            senão\n",
    "                n = n - 2\n",
    "                Avaliar \n",
    "        fim se\n",
    "E como implementamos a função avaliar? De forma recursiva ou iterativa?\n",
    "\n",
    "        "
   ]
  },
  {
   "cell_type": "markdown",
   "metadata": {
    "slideshow": {
     "slide_type": "slide"
    }
   },
   "source": [
    "A abordagem pretentida (iterativa ou recursiva) pode ficar clara na definição do algoritmo. Assim:\n",
    "\n",
    "<img src=\"./figures/Alg_paridade_2.jpg\" alt=\"Paridade\" style=\"width: 400px;\"/>"
   ]
  },
  {
   "cell_type": "markdown",
   "metadata": {
    "slideshow": {
     "slide_type": "slide"
    }
   },
   "source": [
    "ou seja:\n",
    "\n",
    "    Avaliar:\n",
    "        enquanto n > 2\n",
    "            n = n - 2     < == iterativo\n",
    "        fim enquanto\n",
    "        \n",
    "        se n = 2\n",
    "            resultado é \"Par\"\n",
    "        senão\n",
    "            resultado é \"Ímpar\"                \n",
    "        fim se\n",
    "        "
   ]
  },
  {
   "cell_type": "markdown",
   "metadata": {
    "slideshow": {
     "slide_type": "slide"
    }
   },
   "source": [
    "### Codificação e documentação\n",
    "\n",
    "E como ficaria em Python? \n",
    "\n",
    "Vamos incluir a documentação, usando uma *docstring* mais completa e garantindo a qualidade do bloco de código usando asserções (*assert*). Considere a função na forma que a seguir se apresenta, _com erro_ na terceira linha de documentação."
   ]
  },
  {
   "cell_type": "code",
   "execution_count": null,
   "metadata": {
    "collapsed": true,
    "slideshow": {
     "slide_type": "slide"
    }
   },
   "outputs": [],
   "source": [
    "def paridade_2 (n):\n",
    "    \"\"\" Função que determina se um número natural positivo é par ou ímpar.\n",
    "    \n",
    "    Argumento:\n",
    "        n (int): número a avaliar\n",
    "\n",
    "    Devolve:\n",
    "        str: \"Par\" ou \"Ímpar\"\n",
    "\n",
    "    Exemplos:\n",
    "        >>> paridade_2 (3)\n",
    "        'Ímpar'\n",
    "        >>> paridade_2 (4)\n",
    "        'Par'\n",
    "        >>> paridade_2 (25)\n",
    "        'Par'\n",
    "    \"\"\"\n",
    "    assert type(n) is int, \"n não é um inteiro: %r\" % n\n",
    "    assert n >0, \"n não é maior que zero: %r\" % n\n",
    "    while (n>2):\n",
    "        n = n-2\n",
    "        \n",
    "    if (n == 2):\n",
    "        resultado = 'Par'\n",
    "    else:\n",
    "        resultado = 'Ímpar'\n",
    "    \n",
    "    return resultado"
   ]
  },
  {
   "cell_type": "code",
   "execution_count": null,
   "metadata": {
    "slideshow": {
     "slide_type": "slide"
    }
   },
   "outputs": [],
   "source": [
    "paridade_2(5)"
   ]
  },
  {
   "cell_type": "code",
   "execution_count": null,
   "metadata": {
    "slideshow": {
     "slide_type": "-"
    }
   },
   "outputs": [],
   "source": [
    "paridade_2(4)"
   ]
  },
  {
   "cell_type": "markdown",
   "metadata": {},
   "source": [
    "Para verificarmos que a função poderíamos fazer"
   ]
  },
  {
   "cell_type": "code",
   "execution_count": null,
   "metadata": {},
   "outputs": [],
   "source": [
    "import doctest\n",
    "doctest.testmod()\n",
    "paridade_2(4)"
   ]
  },
  {
   "cell_type": "code",
   "execution_count": null,
   "metadata": {},
   "outputs": [],
   "source": [
    "# Garantimos que a função não é usada de forma incorreta.\n",
    "# Retire o comentário da próxima linha para ver o erro.\n",
    "# paridade_2(5.0)"
   ]
  },
  {
   "cell_type": "code",
   "execution_count": null,
   "metadata": {},
   "outputs": [],
   "source": [
    "# Garantimos que a função não é usada de forma incorreta.\n",
    "# Retire o comentário da próxima linha para ver o erro.\n",
    "# paridade_2(-3)"
   ]
  },
  {
   "cell_type": "code",
   "execution_count": null,
   "metadata": {
    "slideshow": {
     "slide_type": "-"
    }
   },
   "outputs": [],
   "source": [
    "help(paridade_2)"
   ]
  },
  {
   "cell_type": "markdown",
   "metadata": {},
   "source": [
    "Note que o uso de asserções não dispensa a validação dos dados.\n",
    "\n",
    "Quando uma asserção não se verifica, o programa termina de forma abrupta, em erro, e isso não é adequado.\n",
    "\n",
    "Mas as funções que são feitas podem ser usados noutros contextos, que não o do programa inicial. O uso de asserções ajuda a criar soluções mais robustas, pois numa função podemos verificar que as condições necessárias para a sua utilização."
   ]
  },
  {
   "cell_type": "markdown",
   "metadata": {},
   "source": [
    "## Desenvolvimento de soluções modulares\n",
    "\n",
    "Quando os problemas computacionais se tornam mais complexos, o código do programa tende a ficar muito longo. No entanto, o desenvolvimento de uma solução computacional não implica que todo o código esteja no mesmo ficheiro e pode estar dividido por vários scripts.\n",
    "\n",
    "Dividir o programa em várias partes tem grandes vantagens:\n",
    "\n",
    "+ maior facilidade em testar a funcionalidade das várias partes do problema,\n",
    "\n",
    "+ maior facilidade na manutenção do programa através de alterações, atualizações, etc.,\n",
    "\n",
    "+ possibilidade de reutilização destes módulos na solução de outros problemas.\n",
    "\n",
    "Assim, quando criamos uma solução mais complexa podemos dividir o problema criando vários scripts que contêm as várias partes da solução e depois, usando a funcionalidade `import` do Python, reunimos essas partes."
   ]
  },
  {
   "cell_type": "markdown",
   "metadata": {},
   "source": [
    "### Exemplos\n",
    "\n",
    "#### math\n",
    "\n",
    "Usando o módulo *math* como exemplo, e assumindo que pretendemos a função cosseno e $\\pi$, \n",
    "\n",
    "As opções são:\n",
    "\n",
    "    import math\n",
    "    math.cos(math.pi/4)\n",
    "\n",
    "ou\n",
    "\n",
    "    from math import *\n",
    "    cos(pi/4)\n",
    "\n",
    "ou ainda\n",
    "\n",
    "    from math import pi, cos\n",
    "    cos(pi/4)\n",
    "\n",
    "É de notar que há uma diferença entre executar `import math` e `from math import *`. Embora em ambas as situações estejamos a importar o módulo todo, na última não é necessário prefixar as funções com o nome do módulo (math)."
   ]
  },
  {
   "cell_type": "markdown",
   "metadata": {},
   "source": [
    "#### Temperaturas\n",
    "\n",
    "Consideremos o tema da conversão de unidades de temperatura e que no ficheiro `temperaturas.py` temos todas as funções para as conversões de temperatura."
   ]
  },
  {
   "cell_type": "markdown",
   "metadata": {},
   "source": [
    "\n",
    "Para usarmos essas funções noutros programas podemos fazer"
   ]
  },
  {
   "cell_type": "code",
   "execution_count": null,
   "metadata": {},
   "outputs": [],
   "source": [
    "import temperaturas\n",
    "\n",
    "for x in range(0, 100, 20):\n",
    "    print('fahrenheit: {0:2} --> kelvin: {1:.3}'.format(x, temperaturas.f2k(x)))"
   ]
  },
  {
   "cell_type": "markdown",
   "metadata": {},
   "source": [
    "\n",
    "ou"
   ]
  },
  {
   "cell_type": "code",
   "execution_count": null,
   "metadata": {},
   "outputs": [],
   "source": [
    "from temperaturas import f2k\n",
    "\n",
    "for x in range(0, 100, 20):\n",
    "    print('fahrenheit: {0:2} --> kelvin: {1:.3}'.format(x, f2k(x)))"
   ]
  },
  {
   "cell_type": "markdown",
   "metadata": {},
   "source": [
    "## Exceções\n",
    "\n",
    "Já vimos vários casos em que o Python devolve mensagens de erro. Por vezes queremos intercetar o erro por forma a não permitir que o programa termine por sua causa ou, se terminar, que não haja mensagens de erro. Esta interceção pode ser conseguida através das instruções `try` e `except`.\n",
    "\n",
    "Estas instruções são normalmente divididas em blocos: o bloco do `try` e o bloco (ou blocos) do `except`. No bloco do `try` incluímos as instruções que poderão dar origem a erros. Nos blocos do `except` indicamos quais os erros que desejamos tratar e incluímos o modo como lidamos com este erros.\n",
    "\n",
    "Para exemplificarmos considere o seguinte programa que deve ser guardado num ficheiro chamado test_try_except.py,"
   ]
  },
  {
   "cell_type": "code",
   "execution_count": null,
   "metadata": {},
   "outputs": [],
   "source": [
    "\"\"\" Função fatorial - teste à instrução try-except  \"\"\"\n",
    "\n",
    "import sys\n",
    "\n",
    "def fatorial_r(n):\n",
    "    \"\"\"Calculo do fatorial de um número.\n",
    "\n",
    "    n! = n * (n-1)! para n > 1\n",
    "    \"\"\"\n",
    "\n",
    "    assert type(n) is int, \"n não é um inteiro: %r\" % n\n",
    "    assert n>0, \"n não é maior que zero: %r\" % n\n",
    "\n",
    "    resultado = 1 # Elemento neutro da multiplicação \n",
    "    if (n>1):\n",
    "        resultado = n * fatorial_r(n-1)\n",
    "    \n",
    "    return resultado\n",
    "\n",
    "def test_try_except():\n",
    "    \"\"\"Exemplo de uso de try-except\"\"\"\n",
    "\n",
    "    while True:\n",
    "        try:\n",
    "            x = int(input('Insira um número inteiro: '))\n",
    "            z = fatorial_r(x)\n",
    "            print('O fatorial de {} é {}'.format(x,z))\n",
    "\n",
    "        except KeyboardInterrupt:\n",
    "            print('\\n Terminado.')\n",
    "            sys.exit(0)\n",
    "\n",
    "        except ValueError:\n",
    "            print('Tente novamente.')\n",
    "\n",
    "        except EOFError:\n",
    "            print('\\n Fim dos dados. Terminado.')\n",
    "            sys.exit(0)\n",
    "\n",
    "if __name__ == '__main__':\n",
    "    test_try_except()\n",
    "\n"
   ]
  },
  {
   "cell_type": "markdown",
   "metadata": {},
   "source": [
    "Note:\n",
    "\n",
    "+ lê vários elementos\n",
    "+ distingue duas formas de terminação do programa\n",
    "+ interceta a entrada se não puder ser convertida para inteiro\n",
    "+ a função não pode ser chamada com valores negativos"
   ]
  }
 ],
 "metadata": {
  "celltoolbar": "Slideshow",
  "kernelspec": {
   "display_name": "Python 3.9.2 ('IPC-2021')",
   "language": "python",
   "name": "python3"
  },
  "language_info": {
   "codemirror_mode": {
    "name": "ipython",
    "version": 3
   },
   "file_extension": ".py",
   "mimetype": "text/x-python",
   "name": "python",
   "nbconvert_exporter": "python",
   "pygments_lexer": "ipython3",
   "version": "3.9.2"
  },
  "vscode": {
   "interpreter": {
    "hash": "9ddeaa86c29e9638be5ab6a311e6804f35ff6acc891c5fdf04f4904ed15ff124"
   }
  }
 },
 "nbformat": 4,
 "nbformat_minor": 1
}
