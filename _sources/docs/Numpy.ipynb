{
 "cells": [
  {
   "cell_type": "markdown",
   "metadata": {},
   "source": [
    "# A biblioteca *NumPy*"
   ]
  },
  {
   "cell_type": "markdown",
   "metadata": {},
   "source": [
    "## Introdução\n",
    "\n",
    "Neste capítulo abordamos alguma  funcionalidades da biblioteca *NumPy*, nomeadamente:\n",
    "- a criação de vetores e de matrizes,\n",
    "- a manipulação de matrizes,\n",
    "- as operações elementares com matrizes,\n",
    "- a geração de números aleatórios.\n"
   ]
  },
  {
   "cell_type": "markdown",
   "metadata": {},
   "source": [
    "## Objetivos de aprendizagem\n",
    "\n",
    "No final deste capítulo deveremos ser capazes de usar as seguintes funcionalidades da biblioteca *NumPy*:\n",
    "- criar vetores e matrizes,\n",
    "- manipular matrizes usando a indexação, *slicing*, etc.,\n",
    "- aplicar as operações elementares em matrizes,\n",
    "- aplicar as *ufuncs* nativas e\n",
    "- gerar números aleatórios de acordo com as distribuições de probabilidade Uniforme, Gaussiana e de Poisson.\n"
   ]
  },
  {
   "cell_type": "markdown",
   "metadata": {},
   "source": [
    "\n",
    "## Generalidades\n",
    "\n",
    "Para usarmos esta biblioteca é necessário a sua importação para o espaço de trabalho,"
   ]
  },
  {
   "cell_type": "code",
   "execution_count": 1,
   "metadata": {
    "slideshow": {
     "slide_type": "slide"
    }
   },
   "outputs": [],
   "source": [
    "import numpy as np\n"
   ]
  },
  {
   "cell_type": "markdown",
   "metadata": {},
   "source": [
    "Além de importarmos a biblioteca `numpy` também lhe atribuímos o nome `np` através do qual podemos invocar os métodos, ou seja, para um determinado *método* existente, a instrução `np.método()` é equivalente a `numpy.método()`."
   ]
  },
  {
   "cell_type": "markdown",
   "metadata": {},
   "source": [
    "\n",
    "## Criação de vetores e matrizes\n",
    "\n",
    "Para criarmos vetores e matrizes usamos o método `array` juntamente com listas ou tuplos. Por exemplo, para criamos o vetor (ou matriz) $[0\\, 1\\,  2\\, 3]$ podemos executar,"
   ]
  },
  {
   "cell_type": "code",
   "execution_count": 2,
   "metadata": {
    "slideshow": {
     "slide_type": "slide"
    }
   },
   "outputs": [
    {
     "name": "stdout",
     "output_type": "stream",
     "text": [
      "[0 1 2 3]\n"
     ]
    }
   ],
   "source": [
    "# Criação de uma matriz com np.array() e uma lista\n",
    "a = np.array([0, 1, 2, 3])\n",
    "\n",
    "print(a)\n"
   ]
  },
  {
   "cell_type": "markdown",
   "metadata": {},
   "source": [
    "ou, em alternativa,"
   ]
  },
  {
   "cell_type": "code",
   "execution_count": 3,
   "metadata": {
    "slideshow": {
     "slide_type": "slide"
    }
   },
   "outputs": [
    {
     "name": "stdout",
     "output_type": "stream",
     "text": [
      "[0 1 2 3]\n"
     ]
    }
   ],
   "source": [
    "# Criação de uma matriz com np.array() e um tuplo\n",
    "a = np.array((0, 1, 2, 3))\n",
    "\n",
    "print(a)\n"
   ]
  },
  {
   "cell_type": "markdown",
   "metadata": {},
   "source": [
    "Os objetos que representam as matrizes criadas através do método `array` são do tipo `ndarray`."
   ]
  },
  {
   "cell_type": "code",
   "execution_count": 4,
   "metadata": {},
   "outputs": [
    {
     "data": {
      "text/plain": [
       "numpy.ndarray"
      ]
     },
     "execution_count": 4,
     "metadata": {},
     "output_type": "execute_result"
    }
   ],
   "source": [
    "type(a)\n"
   ]
  },
  {
   "cell_type": "markdown",
   "metadata": {},
   "source": [
    "Outra maneira de gerar esta matriz é através do método `arange(inicio, fim+1, intervalo)`,"
   ]
  },
  {
   "cell_type": "code",
   "execution_count": 5,
   "metadata": {
    "slideshow": {
     "slide_type": "fragment"
    }
   },
   "outputs": [
    {
     "name": "stdout",
     "output_type": "stream",
     "text": [
      "[0 1 2 3]\n"
     ]
    }
   ],
   "source": [
    "a = np.arange(0, 4, 1)\n",
    "print(a)\n"
   ]
  },
  {
   "cell_type": "markdown",
   "metadata": {},
   "source": [
    "Podemos criar matrizes com várias dimensões. Por exemplo, para criarmos a seguinte matriz com duas linhas e três colunas,\n",
    "\n",
    "$\\left[\\begin{array}{ccc}\n",
    "   0 & 1 & 2\\\\\n",
    "   3 & 4 & 5\n",
    "\\end{array}\\right]$\n",
    "\n",
    "podemos usar o método `array` especificando as duas linhas da matriz,"
   ]
  },
  {
   "cell_type": "code",
   "execution_count": 6,
   "metadata": {
    "slideshow": {
     "slide_type": "fragment"
    }
   },
   "outputs": [
    {
     "name": "stdout",
     "output_type": "stream",
     "text": [
      "[[0 1 2]\n",
      " [3 4 5]]\n"
     ]
    }
   ],
   "source": [
    "b = np.array([[0, 1, 2],\n",
    "              [3, 4, 5]])\n",
    "print(b)\n"
   ]
  },
  {
   "cell_type": "markdown",
   "metadata": {},
   "source": [
    "Para criarmos uma matriz com três dimensões, especificamos as fatias (*slices*) as quais por, suas vez, devem especificar as linhas da matriz. No exemplo seguinte a matriz `c` tem 4 fatias, duas linhas (por fatia) e 3 colunas (por linha),"
   ]
  },
  {
   "cell_type": "code",
   "execution_count": 7,
   "metadata": {},
   "outputs": [
    {
     "name": "stdout",
     "output_type": "stream",
     "text": [
      "[[[1 2 3]\n",
      "  [1 3 2]]\n",
      "\n",
      " [[2 2 1]\n",
      "  [2 1 2]]\n",
      "\n",
      " [[3 1 3]\n",
      "  [3 4 2]]\n",
      "\n",
      " [[4 5 6]\n",
      "  [4 7 6]]]\n"
     ]
    }
   ],
   "source": [
    "c = np.array([[[1, 2, 3], [1, 3, 2]], [[2, 2, 1], [2, 1, 2]],\n",
    "              [[3, 1, 3], [3, 4, 2]], [[4, 5, 6], [4, 7, 6]]])\n",
    "\n",
    "print(c)\n"
   ]
  },
  {
   "cell_type": "markdown",
   "metadata": {},
   "source": [
    "\n",
    "<img src=\"./figures/matrizes_nd.png\" alt=\"Exemplos de matrizes\" style=\"height: 350px;\"/>"
   ]
  },
  {
   "cell_type": "markdown",
   "metadata": {},
   "source": [
    "### Dimensão\n",
    "\n",
    "Em Python, podemos interpretar a dimensão de uma matriz como o número correspondente de índices. Para determinarmos esta dimensão usamos o método `ndim` que devolve um inteiro com esta informação,"
   ]
  },
  {
   "cell_type": "code",
   "execution_count": 8,
   "metadata": {
    "slideshow": {
     "slide_type": "fragment"
    }
   },
   "outputs": [
    {
     "name": "stdout",
     "output_type": "stream",
     "text": [
      "Dimensão da matriz 'a':  1\n",
      "Dimensão da matriz 'b':  2\n",
      "Dimensão da matriz 'c':  3\n"
     ]
    }
   ],
   "source": [
    "print('Dimensão da matriz \\'a\\': ', a.ndim)\n",
    "print('Dimensão da matriz \\'b\\': ', b.ndim)\n",
    "print('Dimensão da matriz \\'c\\': ', c.ndim)\n"
   ]
  },
  {
   "cell_type": "markdown",
   "metadata": {},
   "source": [
    "Para determinarmos o número de elementos de uma matriz em cada uma das suas dimensões usamos o método `shape` que devolve um tuplo com esta informação. Por exemplo,"
   ]
  },
  {
   "cell_type": "code",
   "execution_count": 9,
   "metadata": {},
   "outputs": [
    {
     "name": "stdout",
     "output_type": "stream",
     "text": [
      "(4,)\n",
      "A matriz 'a' tem 4 colunas.\n"
     ]
    }
   ],
   "source": [
    "print(a.shape)\n",
    "n_colunas_de_a = a.shape[0]\n",
    "print('A matriz \\'{}\\' tem {} colunas.'.format('a', n_colunas_de_a))\n"
   ]
  },
  {
   "cell_type": "code",
   "execution_count": 10,
   "metadata": {},
   "outputs": [
    {
     "name": "stdout",
     "output_type": "stream",
     "text": [
      "(2, 3)\n",
      "A matriz 'b' tem 2 linhas e 3 colunas.\n"
     ]
    }
   ],
   "source": [
    "print(b.shape)\n",
    "n_linhas_de_b = b.shape[0]\n",
    "n_colunas_de_b = b.shape[1]\n",
    "\n",
    "print('A matriz \\'{}\\' tem {} linhas e {} colunas.'.format(\n",
    "    'b', n_linhas_de_b, n_colunas_de_b))\n"
   ]
  },
  {
   "cell_type": "code",
   "execution_count": 11,
   "metadata": {},
   "outputs": [
    {
     "name": "stdout",
     "output_type": "stream",
     "text": [
      "(4, 2, 3)\n",
      "A matriz 'c' tem 4 fatias, 2 linhas e 3 colunas.\n"
     ]
    }
   ],
   "source": [
    "print(c.shape)\n",
    "n_fatias_de_c = c.shape[0]\n",
    "n_linhas_de_c = c.shape[1]\n",
    "n_colunas_de_c = c.shape[2]\n",
    "\n",
    "print('A matriz \\'{}\\' tem {} fatias, {} linhas \\\n",
    "e {} colunas.'.format('c', n_fatias_de_c, n_linhas_de_c, n_colunas_de_c))\n"
   ]
  },
  {
   "cell_type": "markdown",
   "metadata": {},
   "source": [
    "## Indexação"
   ]
  },
  {
   "cell_type": "markdown",
   "metadata": {},
   "source": [
    "A indexação permite-nos aceder aos elementos individuais de uma matriz e segue a ordenação devolvida pelo método `shape`. Assim, para uma matriz de dimensão unitária o acesso aos seu elementos individuais é feito indexando cada uma das suas colunas. Por exemplo, para a matriz 'a' a indexação é  efetuada da seguinte forma,"
   ]
  },
  {
   "cell_type": "code",
   "execution_count": 12,
   "metadata": {},
   "outputs": [
    {
     "name": "stdout",
     "output_type": "stream",
     "text": [
      "0; 1; 2; 3 "
     ]
    }
   ],
   "source": [
    "print(a[0], end='; ')  # elemento da primeiracoluna,\n",
    "print(a[1], end='; ')  # elemento da segunda coluna,\n",
    "print(a[2], end='; ')  # elemento da terceira coluna,\n",
    "print(a[3], end=' ')  # elemento da quarta coluna.\n"
   ]
  },
  {
   "cell_type": "markdown",
   "metadata": {},
   "source": [
    "\n",
    "Tal como para a indexação de *strings*, listas ou tuplos, a primeiro índice é o 0 e o último é $n-1$, em que $n$ representa número de elemento na dimensão considerada. \n"
   ]
  },
  {
   "cell_type": "markdown",
   "metadata": {},
   "source": [
    "Para a matriz `b` com duas dimensões esta indexação é efetuada genericamente `b[linha,coluna]`,"
   ]
  },
  {
   "cell_type": "code",
   "execution_count": 13,
   "metadata": {},
   "outputs": [
    {
     "name": "stdout",
     "output_type": "stream",
     "text": [
      "0; 1; 2; 3; 4; 5  "
     ]
    }
   ],
   "source": [
    "print(b[0, 0], end='; ')  # elemento da primeira linha, primeira coluna\n",
    "print(b[0, 1], end='; ')  # elemento da primeira linha, segunda coluna\n",
    "print(b[0, 2], end='; ')  # elemento da primeira linha, terceira coluna\n",
    "print(b[1, 0], end='; ')  # elemento da segunda linha, primeira coluna\n",
    "print(b[1, 1], end='; ')  # elemento da segunda linha, segunda coluna\n",
    "print(b[1, 2], end='  ')  # elemento da segunda linha, terceira coluna\n"
   ]
  },
  {
   "cell_type": "markdown",
   "metadata": {},
   "source": [
    "Para a matriz `c` com três dimensões esta indexação é efetuada genericamente `c[fatia,linha,coluna]`. Por exemplo,"
   ]
  },
  {
   "cell_type": "code",
   "execution_count": 14,
   "metadata": {},
   "outputs": [
    {
     "name": "stdout",
     "output_type": "stream",
     "text": [
      "Matriz C: elemento da fatia 1, linha 0, coluna 2: 1\n"
     ]
    }
   ],
   "source": [
    "fatia, linha, coluna = 1, 0, 2\n",
    "print('Matriz C: elemento da fatia {}, linha {}, \\\n",
    "coluna {}: {}'. format(fatia, linha, coluna, c[fatia, linha, coluna]))\n"
   ]
  },
  {
   "cell_type": "markdown",
   "metadata": {},
   "source": [
    "Além de consultarmos os elementos da matriz, também é possível a sua modificação. Por exemplo,"
   ]
  },
  {
   "cell_type": "code",
   "execution_count": 15,
   "metadata": {
    "slideshow": {
     "slide_type": "fragment"
    }
   },
   "outputs": [
    {
     "name": "stdout",
     "output_type": "stream",
     "text": [
      "[[4 1 2]\n",
      " [9 4 5]]\n"
     ]
    }
   ],
   "source": [
    "b[0, 0] = 4\n",
    "b[1, 0] = 9\n",
    "print(b)\n"
   ]
  },
  {
   "cell_type": "markdown",
   "metadata": {},
   "source": [
    "Dependendo da dimensão da matriz, é possível também indexar linhas e colunas de forma individual. Por exemplo, para acedermos à primeira linha da matriz `b` executamos,"
   ]
  },
  {
   "cell_type": "code",
   "execution_count": 16,
   "metadata": {
    "slideshow": {
     "slide_type": "fragment"
    }
   },
   "outputs": [
    {
     "data": {
      "text/plain": [
       "array([4, 1, 2])"
      ]
     },
     "execution_count": 16,
     "metadata": {},
     "output_type": "execute_result"
    }
   ],
   "source": [
    "b[0]\n"
   ]
  },
  {
   "cell_type": "markdown",
   "metadata": {},
   "source": [
    "Para indexar a segunda coluna da matriz `b` executamos,"
   ]
  },
  {
   "cell_type": "code",
   "execution_count": 17,
   "metadata": {
    "slideshow": {
     "slide_type": "fragment"
    }
   },
   "outputs": [
    {
     "data": {
      "text/plain": [
       "array([1, 4])"
      ]
     },
     "execution_count": 17,
     "metadata": {},
     "output_type": "execute_result"
    }
   ],
   "source": [
    "b[:, 1]\n"
   ]
  },
  {
   "cell_type": "markdown",
   "metadata": {},
   "source": [
    "Para acedermos à primeira fatia da matriz `c` executamos,"
   ]
  },
  {
   "cell_type": "code",
   "execution_count": 18,
   "metadata": {},
   "outputs": [
    {
     "data": {
      "text/plain": [
       "array([[1, 2, 3],\n",
       "       [1, 3, 2]])"
      ]
     },
     "execution_count": 18,
     "metadata": {},
     "output_type": "execute_result"
    }
   ],
   "source": [
    "c[0]\n"
   ]
  },
  {
   "cell_type": "markdown",
   "metadata": {},
   "source": [
    "Para acedermos à primeira linha da primeira fatia da matriz `c` executamos,"
   ]
  },
  {
   "cell_type": "code",
   "execution_count": 19,
   "metadata": {},
   "outputs": [
    {
     "data": {
      "text/plain": [
       "array([1, 2, 3])"
      ]
     },
     "execution_count": 19,
     "metadata": {},
     "output_type": "execute_result"
    }
   ],
   "source": [
    "c[0, 0]\n"
   ]
  },
  {
   "cell_type": "markdown",
   "metadata": {},
   "source": [
    "Para acedermos à segunda coluna da quarta fatia da matriz `c` executamos,"
   ]
  },
  {
   "cell_type": "code",
   "execution_count": 20,
   "metadata": {},
   "outputs": [
    {
     "data": {
      "text/plain": [
       "array([5, 7])"
      ]
     },
     "execution_count": 20,
     "metadata": {},
     "output_type": "execute_result"
    }
   ],
   "source": [
    "c[3, :, 1]\n"
   ]
  },
  {
   "cell_type": "markdown",
   "metadata": {},
   "source": [
    "## *Slicing*\n",
    "Esta operação permite-nos aceder aos elementos de uma matriz especificando uma sequência para os seu índices com o formato `[inicio:fim+1]` ou `[inicio:fim+1:intervalo]`. Por exemplo,"
   ]
  },
  {
   "cell_type": "code",
   "execution_count": 21,
   "metadata": {
    "slideshow": {
     "slide_type": "fragment"
    }
   },
   "outputs": [
    {
     "name": "stdout",
     "output_type": "stream",
     "text": [
      "matriz a = [ 0  1  2  3  4  5  6  7  8  9 10 11 12 13 14]\n",
      "matriz b = [2 5 8]\n"
     ]
    }
   ],
   "source": [
    "a = np.arange(15)\n",
    "print('matriz a =', a)\n",
    "b = a[2:11:3]\n",
    "print('matriz b =', b)\n"
   ]
  },
  {
   "cell_type": "code",
   "execution_count": 22,
   "metadata": {},
   "outputs": [
    {
     "name": "stdout",
     "output_type": "stream",
     "text": [
      "matriz c = [[ 1  2  3  4  5]\n",
      " [ 6  7  8  9 10]]\n",
      "matriz d = [[2 3 4]\n",
      " [7 8 9]]\n"
     ]
    }
   ],
   "source": [
    "c = np.array([[1, 2, 3, 4, 5], [6, 7, 8, 9, 10]])\n",
    "print('matriz c =', c)\n",
    "d = c[0:2, 1:4]\n",
    "print('matriz d =', d)\n"
   ]
  },
  {
   "cell_type": "markdown",
   "metadata": {},
   "source": [
    "## Cópia de matrizes\n",
    "\n",
    "A cópia de matrizes obedece às mesmas considerações que devemos ter em conta quando copiamos listas. Se quisermos duas entidades diferentes devemos usar o método `copy`,"
   ]
  },
  {
   "cell_type": "code",
   "execution_count": 23,
   "metadata": {},
   "outputs": [
    {
     "name": "stdout",
     "output_type": "stream",
     "text": [
      "matriz c = [20  2  3  4  5]\n",
      "matriz d = [20  2  3  4  5]\n",
      "matriz e = [1 2 3 4 5]\n"
     ]
    }
   ],
   "source": [
    "c = np.array([1, 2, 3, 4, 5])\n",
    "d = c\n",
    "e = c.copy()\n",
    "\n",
    "d[0] = 20\n",
    "\n",
    "print('matriz c =', c)\n",
    "print('matriz d =', d)\n",
    "print('matriz e =', e)\n"
   ]
  },
  {
   "cell_type": "markdown",
   "metadata": {},
   "source": [
    "## Redimensionamento\n",
    "Para redimensionarmos uma matriz podemos usar o método `reshape`. Por exemplo,"
   ]
  },
  {
   "cell_type": "code",
   "execution_count": 24,
   "metadata": {},
   "outputs": [
    {
     "name": "stdout",
     "output_type": "stream",
     "text": [
      "matriz a = [ 1  3  5  7  9 11]\n",
      "matriz b = [[ 1  3  5]\n",
      " [ 7  9 11]]\n"
     ]
    }
   ],
   "source": [
    "a = np.arange(1, 12, 2)\n",
    "b = a.reshape(2, 3)\n",
    "print('matriz a =', a)\n",
    "print('matriz b =', b)\n"
   ]
  },
  {
   "cell_type": "markdown",
   "metadata": {},
   "source": [
    "Podemos transformar uma matriz de dimensão superior numa matriz de dimensão unitária, "
   ]
  },
  {
   "cell_type": "code",
   "execution_count": 25,
   "metadata": {},
   "outputs": [
    {
     "name": "stdout",
     "output_type": "stream",
     "text": [
      "matriz a = [[1 2 3]\n",
      " [4 5 6]]\n",
      "matriz b = [1 2 3 4 5 6]\n"
     ]
    }
   ],
   "source": [
    "a = np.array([[1, 2, 3], [4, 5, 6]])\n",
    "b = a.reshape(-1)\n",
    "print('matriz a =', a)\n",
    "print('matriz b =', b)\n"
   ]
  },
  {
   "cell_type": "markdown",
   "metadata": {},
   "source": [
    "## Iteração dos elementos\n",
    "\n",
    "Os seguintes exemplos ilustram como podemos aceder aos elementos de uma matriz através da iteração com ciclos `for`,  "
   ]
  },
  {
   "cell_type": "code",
   "execution_count": 26,
   "metadata": {},
   "outputs": [
    {
     "name": "stdout",
     "output_type": "stream",
     "text": [
      "1 2 3 "
     ]
    }
   ],
   "source": [
    "a = np.array([1, 2, 3])\n",
    "for elemento in a:\n",
    "    print(elemento, end=' ')\n"
   ]
  },
  {
   "cell_type": "code",
   "execution_count": 27,
   "metadata": {},
   "outputs": [
    {
     "name": "stdout",
     "output_type": "stream",
     "text": [
      "[1 2 3]\n",
      "[4 5 6]\n"
     ]
    }
   ],
   "source": [
    "a = np.array([[1, 2, 3], [4, 5, 6]])\n",
    "for linhas in a:\n",
    "    print(linhas)\n"
   ]
  },
  {
   "cell_type": "code",
   "execution_count": 28,
   "metadata": {},
   "outputs": [
    {
     "name": "stdout",
     "output_type": "stream",
     "text": [
      "1 2 3 4 5 6 "
     ]
    }
   ],
   "source": [
    "for linhas in a:\n",
    "    for elemento in linhas:\n",
    "        print(elemento, end=' ')\n"
   ]
  },
  {
   "cell_type": "markdown",
   "metadata": {},
   "source": [
    "O método `nditer` permite iterações mais avançadas. Por exemplo,"
   ]
  },
  {
   "cell_type": "code",
   "execution_count": 29,
   "metadata": {},
   "outputs": [
    {
     "name": "stdout",
     "output_type": "stream",
     "text": [
      "1 2 3 4 5 6 "
     ]
    }
   ],
   "source": [
    "for elemento in np.nditer(a):\n",
    "    print(elemento, end=' ')\n"
   ]
  },
  {
   "cell_type": "markdown",
   "metadata": {},
   "source": [
    "## Casos Particulares\n",
    "\n",
    "Consideramos agora os métodos nativos para a criação de casos particulares de matrizes: a matriz *all-ones*, a matriz nula, a matriz identidade e a matriz diagonal."
   ]
  },
  {
   "cell_type": "markdown",
   "metadata": {
    "slideshow": {
     "slide_type": "slide"
    }
   },
   "source": [
    "### A matriz *all-ones* \n",
    "\n",
    "Neste tipo de matriz todos os seu elementos são iguais a 1. Para gerarmos uma matriz deste género podemos usar o método `ones`. Por exemplo, para gerar uma destas matrizes com $m$ linhas e $n$ colunas,"
   ]
  },
  {
   "cell_type": "code",
   "execution_count": 30,
   "metadata": {
    "slideshow": {
     "slide_type": "fragment"
    }
   },
   "outputs": [
    {
     "data": {
      "text/plain": [
       "array([[1., 1., 1., 1.],\n",
       "       [1., 1., 1., 1.],\n",
       "       [1., 1., 1., 1.]])"
      ]
     },
     "execution_count": 30,
     "metadata": {},
     "output_type": "execute_result"
    }
   ],
   "source": [
    "m, n = 3, 4\n",
    "a = np.ones((m, n))\n",
    "a\n"
   ]
  },
  {
   "cell_type": "markdown",
   "metadata": {},
   "source": [
    "### A matriz nula\n",
    "Para gerarmos uma matriz nula podemos usar o método `zeros`. Por exemplo, para gerar uma matriz nula com $m$ linhas e $n$ colunas,"
   ]
  },
  {
   "cell_type": "code",
   "execution_count": 31,
   "metadata": {
    "slideshow": {
     "slide_type": "fragment"
    }
   },
   "outputs": [
    {
     "data": {
      "text/plain": [
       "array([[0., 0., 0., 0.],\n",
       "       [0., 0., 0., 0.],\n",
       "       [0., 0., 0., 0.]])"
      ]
     },
     "execution_count": 31,
     "metadata": {},
     "output_type": "execute_result"
    }
   ],
   "source": [
    "m, n = 3, 4\n",
    "b = np.zeros((m, n))\n",
    "b\n"
   ]
  },
  {
   "cell_type": "markdown",
   "metadata": {},
   "source": [
    "### A matriz identidade\n",
    "Para gerarmos uma matriz identidade podemos recorrer ao método `eye`. A sua criação pode ser com números inteiros ou reais (`float`) através da opção `dtype`. Por exemplo, para criarmos uma destas matrizes com $n$ linhas e $n$ colunas,"
   ]
  },
  {
   "cell_type": "code",
   "execution_count": 32,
   "metadata": {
    "slideshow": {
     "slide_type": "slide"
    }
   },
   "outputs": [
    {
     "data": {
      "text/plain": [
       "array([[1, 0, 0],\n",
       "       [0, 1, 0],\n",
       "       [0, 0, 1]])"
      ]
     },
     "execution_count": 32,
     "metadata": {},
     "output_type": "execute_result"
    }
   ],
   "source": [
    "n = 3\n",
    "c = np.eye(n, dtype=int)\n",
    "c\n"
   ]
  },
  {
   "cell_type": "code",
   "execution_count": 33,
   "metadata": {
    "slideshow": {
     "slide_type": "fragment"
    }
   },
   "outputs": [
    {
     "data": {
      "text/plain": [
       "array([[1., 0., 0.],\n",
       "       [0., 1., 0.],\n",
       "       [0., 0., 1.]])"
      ]
     },
     "execution_count": 33,
     "metadata": {},
     "output_type": "execute_result"
    }
   ],
   "source": [
    "c = np.eye(n, dtype=float)\n",
    "c\n"
   ]
  },
  {
   "cell_type": "markdown",
   "metadata": {},
   "source": [
    "### A matriz diagonal\n",
    "Para gerarmos uma matriz diagonal podemos usar o método `diag` juntamente com uma lista ou um tuplo que contém os elemento da diagonal. O comprimento desta lista ou tuplo determina a dimensão da matriz. "
   ]
  },
  {
   "cell_type": "markdown",
   "metadata": {},
   "source": [
    "Por exemplo:"
   ]
  },
  {
   "cell_type": "code",
   "execution_count": 34,
   "metadata": {
    "slideshow": {
     "slide_type": "slide"
    }
   },
   "outputs": [
    {
     "data": {
      "text/plain": [
       "array([[1, 0, 0, 0],\n",
       "       [0, 2, 0, 0],\n",
       "       [0, 0, 3, 0],\n",
       "       [0, 0, 0, 4]])"
      ]
     },
     "execution_count": 34,
     "metadata": {},
     "output_type": "execute_result"
    }
   ],
   "source": [
    "d = np.diag(np.array([1, 2, 3, 4]))\n",
    "d\n"
   ]
  },
  {
   "cell_type": "code",
   "execution_count": 35,
   "metadata": {
    "slideshow": {
     "slide_type": "slide"
    }
   },
   "outputs": [
    {
     "data": {
      "text/plain": [
       "array([[1, 0, 0, 0],\n",
       "       [0, 2, 0, 0],\n",
       "       [0, 0, 3, 0],\n",
       "       [0, 0, 0, 4]])"
      ]
     },
     "execution_count": 35,
     "metadata": {},
     "output_type": "execute_result"
    }
   ],
   "source": [
    "d = np.diag(np.array((1, 2, 3, 4)))\n",
    "d\n"
   ]
  },
  {
   "cell_type": "markdown",
   "metadata": {
    "slideshow": {
     "slide_type": "slide"
    }
   },
   "source": [
    "## Operações elementares\n",
    "\n",
    "### Soma e diferença\n",
    "Em relação a estas operações podemos considerar duas situações:\n",
    "+ a soma ou diferença de um escalar com uma matriz,\n",
    "+ a soma ou diferença de matrizes.\n",
    "\n",
    "Consideremos as matrizes `a` e `b`,"
   ]
  },
  {
   "cell_type": "code",
   "execution_count": 36,
   "metadata": {
    "slideshow": {
     "slide_type": "fragment"
    }
   },
   "outputs": [
    {
     "name": "stdout",
     "output_type": "stream",
     "text": [
      "[ 0 10 20 30]\n"
     ]
    }
   ],
   "source": [
    "a = np.array(10 * np.arange(4))\n",
    "print(a)\n"
   ]
  },
  {
   "cell_type": "code",
   "execution_count": 37,
   "metadata": {
    "slideshow": {
     "slide_type": "fragment"
    }
   },
   "outputs": [
    {
     "name": "stdout",
     "output_type": "stream",
     "text": [
      "[0 1 2 3]\n"
     ]
    }
   ],
   "source": [
    "b = np.arange(4)\n",
    "print(b)\n"
   ]
  },
  {
   "cell_type": "markdown",
   "metadata": {},
   "source": [
    "A adição e a subtração de um escalar a uma matriz é efetuada usando os operadores $+$ e $-$, respetivamente. Por exemplo,"
   ]
  },
  {
   "cell_type": "code",
   "execution_count": 38,
   "metadata": {
    "slideshow": {
     "slide_type": "fragment"
    }
   },
   "outputs": [
    {
     "name": "stdout",
     "output_type": "stream",
     "text": [
      "[ 5 15 25 35]\n"
     ]
    }
   ],
   "source": [
    "a1 = a + 5\n",
    "print(a1)\n"
   ]
  },
  {
   "cell_type": "markdown",
   "metadata": {},
   "source": [
    "A soma e diferença de matrizes é efetuada usando os operadores $+$ e $-$, respetivamente. Por exemplo,"
   ]
  },
  {
   "cell_type": "code",
   "execution_count": 39,
   "metadata": {
    "slideshow": {
     "slide_type": "slide"
    }
   },
   "outputs": [
    {
     "name": "stdout",
     "output_type": "stream",
     "text": [
      "[ 0  9 18 27]\n"
     ]
    }
   ],
   "source": [
    "c = a-b\n",
    "print(c)\n"
   ]
  },
  {
   "cell_type": "code",
   "execution_count": 40,
   "metadata": {},
   "outputs": [
    {
     "name": "stdout",
     "output_type": "stream",
     "text": [
      "[ 0 11 22 33]\n"
     ]
    }
   ],
   "source": [
    "d = a+b\n",
    "print(d)\n"
   ]
  },
  {
   "cell_type": "markdown",
   "metadata": {},
   "source": [
    "### Multiplicação\n",
    "Em relação ao produto há que considerar três situações:\n",
    "+ o produto de um escalar com uma matriz\n",
    "+ o produto elemento a elemento: $a(m,n)\\times b(m,n)$\n",
    "+ o produto matricial\n",
    "\n",
    "Consideremos as matrizes `a` e `b`,"
   ]
  },
  {
   "cell_type": "code",
   "execution_count": 41,
   "metadata": {
    "slideshow": {
     "slide_type": "slide"
    }
   },
   "outputs": [],
   "source": [
    "a = np.array([[1, 1],\n",
    "              [0, 1]])\n",
    "b = np.array([[2, 1],\n",
    "              [3, 4]])\n"
   ]
  },
  {
   "cell_type": "markdown",
   "metadata": {},
   "source": [
    "Para o produto de um escalar com uma matriz usamos o operador $*$,"
   ]
  },
  {
   "cell_type": "code",
   "execution_count": 42,
   "metadata": {},
   "outputs": [
    {
     "name": "stdout",
     "output_type": "stream",
     "text": [
      "[[100 100]\n",
      " [  0 100]]\n"
     ]
    }
   ],
   "source": [
    "print(100*a)\n"
   ]
  },
  {
   "cell_type": "markdown",
   "metadata": {},
   "source": [
    "Para o produto elemento-a-elemento também usamos o operador $*$,"
   ]
  },
  {
   "cell_type": "code",
   "execution_count": 43,
   "metadata": {
    "slideshow": {
     "slide_type": "fragment"
    }
   },
   "outputs": [
    {
     "name": "stdout",
     "output_type": "stream",
     "text": [
      "[[2 1]\n",
      " [0 4]]\n"
     ]
    }
   ],
   "source": [
    "c = a * b\n",
    "print(c)\n"
   ]
  },
  {
   "cell_type": "markdown",
   "metadata": {},
   "source": [
    "Para o produto matricial usamos o operador `@` ou o {index}`método<dot>` `dot`,"
   ]
  },
  {
   "cell_type": "code",
   "execution_count": 44,
   "metadata": {
    "slideshow": {
     "slide_type": "fragment"
    }
   },
   "outputs": [
    {
     "name": "stdout",
     "output_type": "stream",
     "text": [
      "[[5 5]\n",
      " [3 4]]\n"
     ]
    }
   ],
   "source": [
    "d = a @ b\n",
    "print(d)\n"
   ]
  },
  {
   "cell_type": "code",
   "execution_count": 45,
   "metadata": {
    "slideshow": {
     "slide_type": "fragment"
    }
   },
   "outputs": [
    {
     "name": "stdout",
     "output_type": "stream",
     "text": [
      "[[5 5]\n",
      " [3 4]]\n"
     ]
    }
   ],
   "source": [
    "d = a.dot(b)\n",
    "print(d)\n"
   ]
  },
  {
   "cell_type": "markdown",
   "metadata": {},
   "source": [
    "### Divisão\n",
    "\n",
    "A divisão de matrizes elemento-a elemento, pode ser efetuada com o operador $/$,"
   ]
  },
  {
   "cell_type": "code",
   "execution_count": 46,
   "metadata": {},
   "outputs": [
    {
     "data": {
      "text/plain": [
       "array([[0.5 , 1.  ],\n",
       "       [0.  , 0.25]])"
      ]
     },
     "execution_count": 46,
     "metadata": {},
     "output_type": "execute_result"
    }
   ],
   "source": [
    "a/b\n"
   ]
  },
  {
   "cell_type": "markdown",
   "metadata": {},
   "source": [
    "### Divisão inteira\n",
    "\n",
    "A divisão inteira de matrizes elemento-a elemento, pode ser efetuada com o operador $//$,"
   ]
  },
  {
   "cell_type": "code",
   "execution_count": 47,
   "metadata": {},
   "outputs": [
    {
     "data": {
      "text/plain": [
       "array([[0, 1],\n",
       "       [0, 0]])"
      ]
     },
     "execution_count": 47,
     "metadata": {},
     "output_type": "execute_result"
    }
   ],
   "source": [
    "a//b\n"
   ]
  },
  {
   "cell_type": "markdown",
   "metadata": {},
   "source": [
    "### Resto da divisão inteira\n",
    "\n",
    "O resto da divisão inteira de matrizes elemento-a elemento, pode ser efetuada com o operador $\\%$,"
   ]
  },
  {
   "cell_type": "code",
   "execution_count": 48,
   "metadata": {},
   "outputs": [
    {
     "data": {
      "text/plain": [
       "array([[1, 0],\n",
       "       [0, 1]])"
      ]
     },
     "execution_count": 48,
     "metadata": {},
     "output_type": "execute_result"
    }
   ],
   "source": [
    "a % b\n"
   ]
  },
  {
   "cell_type": "markdown",
   "metadata": {},
   "source": [
    "### Transposta\n",
    "Para calcularmos a transposta de uma matriz usamos o método `transpose`,"
   ]
  },
  {
   "cell_type": "code",
   "execution_count": 49,
   "metadata": {},
   "outputs": [
    {
     "name": "stdout",
     "output_type": "stream",
     "text": [
      "[[2 0]\n",
      " [1 4]]\n"
     ]
    }
   ],
   "source": [
    "c_t = np.transpose(c)\n",
    "print(c_t)\n"
   ]
  },
  {
   "cell_type": "markdown",
   "metadata": {},
   "source": [
    "ou, em alternativa,"
   ]
  },
  {
   "cell_type": "code",
   "execution_count": 50,
   "metadata": {},
   "outputs": [
    {
     "name": "stdout",
     "output_type": "stream",
     "text": [
      "[[2 0]\n",
      " [1 4]]\n"
     ]
    }
   ],
   "source": [
    "c_t = c.T\n",
    "print(c_t)\n"
   ]
  },
  {
   "cell_type": "markdown",
   "metadata": {},
   "source": [
    "Este método também é útil para criamos um vetor no formato coluna,"
   ]
  },
  {
   "cell_type": "code",
   "execution_count": 51,
   "metadata": {},
   "outputs": [
    {
     "name": "stdout",
     "output_type": "stream",
     "text": [
      "vector linha= [[1 2 3 4 5]]\n",
      "vector coluna=\n",
      " [[1]\n",
      " [2]\n",
      " [3]\n",
      " [4]\n",
      " [5]]\n"
     ]
    }
   ],
   "source": [
    "v_l = np.array([[1, 2, 3, 4, 5]])\n",
    "v_c = v_l.T\n",
    "print('vector linha=', v_l)\n",
    "print('vector coluna=\\n', v_c)\n"
   ]
  },
  {
   "cell_type": "markdown",
   "metadata": {},
   "source": [
    "### Exponenciação\n",
    "\n",
    "O operador $**$ é usado para a exponenciação dos elementos individuais da matriz. O expoente pode ser um escalar ou uma matriz"
   ]
  },
  {
   "cell_type": "code",
   "execution_count": 52,
   "metadata": {
    "slideshow": {
     "slide_type": "fragment"
    }
   },
   "outputs": [
    {
     "name": "stdout",
     "output_type": "stream",
     "text": [
      "matriz e: [[25 25]\n",
      " [ 9 16]]\n",
      "matriz f: [[25 25]\n",
      " [ 9 16]]\n"
     ]
    }
   ],
   "source": [
    "e = d**2\n",
    "print('matriz e:', e)\n",
    "\n",
    "f = d ** np.array([[2, 2], [2, 2]])\n",
    "print('matriz f:', f)\n"
   ]
  },
  {
   "cell_type": "markdown",
   "metadata": {},
   "source": [
    "### Determinante\n",
    "Para calcularmos determinantes de matrizes podemos usar o método `linalg.det`,"
   ]
  },
  {
   "cell_type": "code",
   "execution_count": 53,
   "metadata": {},
   "outputs": [
    {
     "name": "stdout",
     "output_type": "stream",
     "text": [
      "Determinante de 'd': 5.0\n"
     ]
    }
   ],
   "source": [
    "det_d = np.linalg.det(d)\n",
    "print('Determinante de \\'{0}\\': {1:1.1f}'.format('d', det_d))\n"
   ]
  },
  {
   "cell_type": "markdown",
   "metadata": {
    "slideshow": {
     "slide_type": "slide"
    }
   },
   "source": [
    "### Documentação e ajuda\n",
    "\n",
    "A documentação sobre matrizes pode ser acedida usado a função `help`,"
   ]
  },
  {
   "cell_type": "code",
   "execution_count": 54,
   "metadata": {
    "slideshow": {
     "slide_type": "fragment"
    }
   },
   "outputs": [],
   "source": [
    "# Remova os comentários para aceder à documentação\n",
    "# help (np.array)\n",
    "# np.lookfor('create array')\n"
   ]
  },
  {
   "cell_type": "markdown",
   "metadata": {},
   "source": [
    "## Funções universais (*ufunc*)\n",
    "As funções universais  - *universal functions (ufunc)* - operam sobre a forma matricial do *NumPy*, ou seja sobre os objetos do tipo `ndarray`. Estas funções implementam formas de vetorização que são mais rápidas do que a sua correspondente forma iterativa. \n",
    "\n",
    "As *ufuncs* contemplam funções aritméticas, trigonométricas, logaritmos, etc. É possível implementarmos *ufuncs* de acordo com a necessidade da solução em questão."
   ]
  },
  {
   "cell_type": "markdown",
   "metadata": {},
   "source": [
    "### Operações Aritméticas\n",
    "\n",
    "As *ufuncs* para a aritmética simples sobre matrizes produzem resultados semelhantes aos operadores acima mencionados:\n",
    "+ `add(a,b)` : semelhante ao operador $+$; devolve uma matriz com a soma (elemento a elemento) das matrizes `a` e `b`,\n",
    "+ `subtract(a,b)` : semelhante ao operador $-$; devolve uma matriz com a diferença (elemento a elemento) das matrizes `a` e `b`,\n",
    "+ `multiply(a,b)` : semelhante ao operador $*$; devolve uma matriz com a multiplicação (elemento a elemento) das matrizes `a` e `b`,\n",
    "+ `divide(a,b)` : semelhante ao operador $/$; devolve uma matriz com a divisão (elemento a elemento) das matrizes `a` e `b`,\n",
    "+ `power(a,b)` : semelhante ao operador $**$; devolve uma matriz com a potenciação (elemento a elemento) das matrizes `a` e `b`."
   ]
  },
  {
   "cell_type": "markdown",
   "metadata": {},
   "source": [
    "Exemplos:"
   ]
  },
  {
   "cell_type": "code",
   "execution_count": 55,
   "metadata": {},
   "outputs": [
    {
     "name": "stdout",
     "output_type": "stream",
     "text": [
      "a+b : [[ 4  6]\n",
      " [12  9]]\n",
      "a-b : [[0 2]\n",
      " [6 3]]\n",
      "a*b : [[ 4  8]\n",
      " [27 18]]\n",
      "a/b : [[1. 2.]\n",
      " [3. 2.]]\n",
      "a**b : [[  4  16]\n",
      " [729 216]]\n"
     ]
    }
   ],
   "source": [
    "a = np.array([[2, 4], [9, 6]])\n",
    "b = np.array([[2, 2], [3, 3]])\n",
    "\n",
    "print('a+b :', np.add(a, b))\n",
    "print('a-b :', np.subtract(a, b))\n",
    "print('a*b :', np.multiply(a, b))\n",
    "print('a/b :', np.divide(a, b))\n",
    "print('a**b :', np.power(a, b))\n"
   ]
  },
  {
   "cell_type": "markdown",
   "metadata": {},
   "source": [
    "As *ufuncs* para a aritmética simples contemplam ainda:\n",
    "+ `absolute(a)` : devolve uma matriz com o módulo dos elementos da matriz `a`,\n",
    "+ `remainder(a,b)` : devolve uma matriz com o resto da divisão inteira de `a` por `b`,\n",
    "+ `divmod(a,b)` : devolve duas matrizes matriz com o resultado da divisão inteira de `a` por `b` e o respetivo resto."
   ]
  },
  {
   "cell_type": "markdown",
   "metadata": {},
   "source": [
    "Exemplos:"
   ]
  },
  {
   "cell_type": "code",
   "execution_count": 56,
   "metadata": {},
   "outputs": [
    {
     "name": "stdout",
     "output_type": "stream",
     "text": [
      "|a| : [2 4 6 9]\n",
      "resto (a/b) : [0 0 0 1]\n",
      "a/b e resto de (a/b) : (array([-2, -2,  2,  2]), array([0, 0, 0, 1]))\n"
     ]
    }
   ],
   "source": [
    "a = np.array([-2, -4, 6, 9])\n",
    "b = np.array([1, 2, 3, 4])\n",
    "\n",
    "print('|a| :', np.absolute(a))\n",
    "print('resto (a/b) :', np.remainder(a, b))\n",
    "print('a/b e resto de (a/b) :', np.divmod(a, b))\n"
   ]
  },
  {
   "cell_type": "markdown",
   "metadata": {},
   "source": [
    "### Funções trigonométricas\n",
    "\n",
    "As *ufuncs* contemplam senos, co-senos, tangentes, co-tangentes e as respetivas funções inversas. \n",
    "\n",
    "O seguinte exemplo ilustra o seu uso."
   ]
  },
  {
   "cell_type": "code",
   "execution_count": 57,
   "metadata": {},
   "outputs": [
    {
     "name": "stdout",
     "output_type": "stream",
     "text": [
      "Ângulo (rad)  : [0.         0.78539816 1.57079633 2.35619449]\n",
      "Seno do ângulo: [0.         0.70710678 1.         0.70710678]\n"
     ]
    }
   ],
   "source": [
    "ang_rad = np.pi * np.array([0, 1/4, 1/2, 3/4])\n",
    "print('Ângulo (rad)  :', ang_rad)\n",
    "y = np.sin(ang_rad)\n",
    "print('Seno do ângulo:', y)\n"
   ]
  },
  {
   "cell_type": "markdown",
   "metadata": {},
   "source": [
    "### Logaritmos\n",
    "\n",
    "Os logaritmos sobre matrizes estão implementados nas base 2, *e* (neper) e 10. Por exemplo,"
   ]
  },
  {
   "cell_type": "code",
   "execution_count": 58,
   "metadata": {},
   "outputs": [
    {
     "name": "stdout",
     "output_type": "stream",
     "text": [
      "Logaritmo de f: [0. 1. 2. 3. 4.]\n"
     ]
    }
   ],
   "source": [
    "f = np.array([1, 10, 100, 1000, 10000])\n",
    "print('Logaritmo de f:', np.log10(f))\n"
   ]
  },
  {
   "cell_type": "markdown",
   "metadata": {},
   "source": [
    "### Diferenças: `diff`\n",
    "\n",
    "Esta *ufunc* implementa diferenças discretas ou seja produz uma matriz cujos elementos resultam da subtração de dois elementos consecutivos. É bastante relevante na implementação numérica de derivadas de funções. Exemplo,"
   ]
  },
  {
   "cell_type": "code",
   "execution_count": 59,
   "metadata": {},
   "outputs": [
    {
     "name": "stdout",
     "output_type": "stream",
     "text": [
      "f  : [ 1  4  9 16 25 36 49 64 81]\n",
      "f' : [ 3  5  7  9 11 13 15 17]\n",
      "f'': [2 2 2 2 2 2 2]\n"
     ]
    }
   ],
   "source": [
    "f = np.arange(1, 10)**2       # f(x)   = x**2\n",
    "derivada_1 = np.diff(f)      # f'(x)  = 2 x\n",
    "derivada_2 = np.diff(f, n=2)  # f''(x) = 2\n",
    "\n",
    "print('f  :', f)\n",
    "print('f\\' :', derivada_1)\n",
    "print('f\\'\\':', derivada_2)\n"
   ]
  },
  {
   "cell_type": "markdown",
   "metadata": {},
   "source": [
    "### Somas: `sum` e `cumsum`\n",
    "\n",
    "`sum` implementa a soma de todos os elementos de uma matriz enquanto que `cumsum` devolve uma matriz com a soma cumulativa dos seus elementos. Estas funções podem ser relevantes na implementação numérica de integrais de funções. \n",
    "\n",
    "Exemplos:"
   ]
  },
  {
   "cell_type": "code",
   "execution_count": 60,
   "metadata": {},
   "outputs": [
    {
     "name": "stdout",
     "output_type": "stream",
     "text": [
      "Soma total : 45\n",
      "Soma cumulativa: [ 1  3  6 10 15 21 28 36 45]\n"
     ]
    }
   ],
   "source": [
    "a = np.arange(1, 10)\n",
    "print('Soma total :', np.sum(a))\n",
    "print('Soma cumulativa:', np.cumsum(a))\n"
   ]
  },
  {
   "cell_type": "markdown",
   "metadata": {},
   "source": [
    "## Geração de números aleatórios\n",
    "\n",
    "A biblioteca *numpy* inclui o método `random` que disponibiliza vários métodos para gerar números aleatórios de acordo com várias distribuições de probabilidade. \n",
    "\n",
    "Consideramos as distribuições de probabilidade Uniforme, Gaussiana e de Poisson."
   ]
  },
  {
   "cell_type": "markdown",
   "metadata": {},
   "source": [
    "### Distribuição Uniforme\n",
    "\n",
    "O método `randint(low, high, size)` devolve um vector (ou matriz) definida por *size* com números aleatórios inteiros compreendidos entre *low* e *high* de acordo com a distribuição de probabilidade Uniforme.\n",
    "\n",
    "Por exemplo:"
   ]
  },
  {
   "cell_type": "code",
   "execution_count": 61,
   "metadata": {},
   "outputs": [
    {
     "name": "stdout",
     "output_type": "stream",
     "text": [
      "[75 67 60 71 93 78 95 84 65 80]\n"
     ]
    }
   ],
   "source": [
    "n = np.random.randint(50, 100, 10)\n",
    "\n",
    "print(n)\n"
   ]
  },
  {
   "cell_type": "code",
   "execution_count": 62,
   "metadata": {},
   "outputs": [
    {
     "data": {
      "text/plain": [
       "numpy.ndarray"
      ]
     },
     "execution_count": 62,
     "metadata": {},
     "output_type": "execute_result"
    }
   ],
   "source": [
    "type(n)\n"
   ]
  },
  {
   "cell_type": "code",
   "execution_count": 63,
   "metadata": {},
   "outputs": [
    {
     "name": "stdout",
     "output_type": "stream",
     "text": [
      "[[83 57]\n",
      " [69 53]\n",
      " [76 79]]\n"
     ]
    }
   ],
   "source": [
    "n = np.random.randint(50, 100, (3, 2))\n",
    "\n",
    "print(n)\n"
   ]
  },
  {
   "cell_type": "markdown",
   "metadata": {},
   "source": [
    "O método `uniform(low, high, size)` devolve um vector (ou matriz) definida por `size` com números aleatórios compreendidos entre `low` e `high` de acordo com a distribuição de probabilidade Uniforme. \n",
    "\n",
    "Uma das diferenças em relação ao método anterior é que este último devolve número reais (`float`). Por exemplo,"
   ]
  },
  {
   "cell_type": "code",
   "execution_count": 64,
   "metadata": {},
   "outputs": [
    {
     "name": "stdout",
     "output_type": "stream",
     "text": [
      "[[62.91358172 79.45701716]\n",
      " [67.26637383 81.95344531]\n",
      " [73.71019661 79.27635738]]\n"
     ]
    }
   ],
   "source": [
    "x = np.random.uniform(50, 100, [3, 2])\n",
    "\n",
    "print(x)\n"
   ]
  },
  {
   "cell_type": "markdown",
   "metadata": {},
   "source": [
    "### Distribuição Normal (Gaussiana)\n",
    "\n",
    "O método `normal(loc, scale , size)` devolve um vetor (ou matriz) definida por `size` com números aleatórios de acordo com a distribuição de probabilidade Gaussiana de média igual a `loc` e desvio padrão igual a `scale`. \n",
    "\n",
    "Por exemplo:"
   ]
  },
  {
   "cell_type": "code",
   "execution_count": 65,
   "metadata": {},
   "outputs": [
    {
     "name": "stdout",
     "output_type": "stream",
     "text": [
      "[[10.27727409 10.08297747  8.29815673]\n",
      " [ 8.22804849  9.08303145  7.01353613]]\n"
     ]
    }
   ],
   "source": [
    "x = np.random.normal(loc=10, scale=2, size=(2, 3))\n",
    "\n",
    "print(x)\n"
   ]
  },
  {
   "cell_type": "markdown",
   "metadata": {},
   "source": [
    "### Distribuição de Poisson\n",
    "\n",
    "O método `poisson(lam, size)` devolve um vetor (ou matriz) definida por `size` com números aleatórios de acordo com a distribuição de probabilidade de Poisson com um número previsto de eventos igual a `lam`. \n",
    "\n",
    "Por exemplo:"
   ]
  },
  {
   "cell_type": "code",
   "execution_count": 66,
   "metadata": {},
   "outputs": [
    {
     "name": "stdout",
     "output_type": "stream",
     "text": [
      "[[3 0 0]\n",
      " [3 5 2]]\n"
     ]
    }
   ],
   "source": [
    "x = np.random.poisson(lam=3, size=(2, 3))\n",
    "\n",
    "print(x)\n"
   ]
  },
  {
   "cell_type": "markdown",
   "metadata": {},
   "source": [
    "## Resumo\n",
    "\n",
    "Neste capítulo abordámos as funcionalidades principais da biblioteca *NumPy* no que diz respeito à criação e manipulação de matrizes, o cálculo matricial, a aplicação das funções *ufunc* e a geração de números aleatórios de acordo com as distribuições de probabilidade Uniforme, Gaussiana e de Poisson."
   ]
  }
 ],
 "metadata": {
  "interpreter": {
   "hash": "acb248e9f54cba68a7ef125bc30e1eb5488c9283a6b989f184bf6a951c8e97f6"
  },
  "kernelspec": {
   "display_name": "Python 3 (ipykernel)",
   "language": "python",
   "name": "python3"
  },
  "language_info": {
   "codemirror_mode": {
    "name": "ipython",
    "version": 3
   },
   "file_extension": ".py",
   "mimetype": "text/x-python",
   "name": "python",
   "nbconvert_exporter": "python",
   "pygments_lexer": "ipython3",
   "version": "3.9.2"
  }
 },
 "nbformat": 4,
 "nbformat_minor": 2
}
